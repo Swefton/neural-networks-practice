{
 "cells": [
  {
   "cell_type": "code",
   "execution_count": 1,
   "metadata": {},
   "outputs": [],
   "source": [
    "import torch\n",
    "import torch.nn as nn\n",
    "import torch.nn.functional as F\n",
    "import matplotlib.pyplot as plt\n",
    "import pandas as pd\n",
    "from sklearn.model_selection import train_test_split\n",
    "\n",
    "pd.set_option('future.no_silent_downcasting', True)"
   ]
  },
  {
   "cell_type": "code",
   "execution_count": 2,
   "metadata": {},
   "outputs": [],
   "source": [
    "class Model(nn.Module):\n",
    "    def __init__(self, in_features, H1, H2, out_features):\n",
    "        super().__init__()\n",
    "        self.fc1 = nn.Linear(in_features, H1)\n",
    "        self.fc2 = nn.Linear(H1, H2)\n",
    "        self.out = nn.Linear(H2, out_features)\n",
    "\n",
    "    def forward(self, x):\n",
    "        x = F.relu(self.fc1(x))\n",
    "        x = F.relu(self.fc2(x))\n",
    "        x = self.out(x)\n",
    "        return x\n",
    "\n",
    "torch.manual_seed(41)\n",
    "model = Model(in_features=4, H1=8, H2=8, out_features=3)"
   ]
  },
  {
   "cell_type": "code",
   "execution_count": 3,
   "metadata": {},
   "outputs": [],
   "source": [
    "# Load data\n",
    "url = \"https://gist.githubusercontent.com/netj/8836201/raw/6f9306ad21398ea43cba4f7d537619d0e07d5ae3/iris.csv\"\n",
    "my_df = pd.read_csv(url)\n",
    "\n",
    "# Convert last column to numbers\n",
    "my_df['variety'] = my_df['variety'].replace({'Setosa': 0, 'Versicolor': 1, 'Virginica': 2})\n",
    "my_df['variety'] = my_df['variety'].astype('int64')\n",
    "\n",
    "# Split data into X and Y\n",
    "X = my_df.drop('variety', axis=1)\n",
    "Y = my_df['variety']\n",
    "\n",
    "# Convert to numpy arrays\n",
    "X = X.values\n",
    "Y = Y.values\n",
    "\n",
    "# Split data into training and testing sets\n",
    "X_train, X_test, Y_train, Y_test = train_test_split(X, Y, test_size=0.2, random_state=41)\n",
    "\n",
    "\n",
    "# Convert to tensors\n",
    "X_train = torch.FloatTensor(X_train)\n",
    "X_test = torch.FloatTensor(X_test)\n",
    "Y_train = torch.LongTensor(Y_train)\n",
    "Y_test = torch.LongTensor(Y_test)"
   ]
  },
  {
   "cell_type": "code",
   "execution_count": 4,
   "metadata": {},
   "outputs": [
    {
     "name": "stdout",
     "output_type": "stream",
     "text": [
      "Epoch 0, Loss: 1.1318365335464478\n",
      "Epoch 10, Loss: 0.9658561944961548\n",
      "Epoch 20, Loss: 0.6789938807487488\n",
      "Epoch 30, Loss: 0.4004894495010376\n",
      "Epoch 40, Loss: 0.22509503364562988\n",
      "Epoch 50, Loss: 0.12207334488630295\n",
      "Epoch 60, Loss: 0.07481689006090164\n",
      "Epoch 70, Loss: 0.054512783885002136\n",
      "Epoch 80, Loss: 0.04437492415308952\n",
      "Epoch 90, Loss: 0.03837944194674492\n"
     ]
    },
    {
     "data": {
      "image/png": "[encoded data removed]",
      "text/plain": [
       "<Figure size 640x480 with 1 Axes>"
      ]
     },
     "metadata": {},
     "output_type": "display_data"
    }
   ],
   "source": [
    "# Define criterion and optimizer\n",
    "criterion = nn.CrossEntropyLoss()\n",
    "optimizer = torch.optim.Adam(model.parameters(), lr=0.01)\n",
    "\n",
    "# Train model\n",
    "losses = []\n",
    "for i in range(100):\n",
    "    # Forward pass\n",
    "    y_pred = model(X_train)\n",
    "    loss = criterion(y_pred, Y_train)\n",
    "    \n",
    "    # Backward pass\n",
    "    optimizer.zero_grad()\n",
    "    loss.backward()\n",
    "    optimizer.step()\n",
    "    \n",
    "    # Print loss every 10 epochs\n",
    "    if i % 10 == 0:\n",
    "        print(f'Epoch {i}, Loss: {loss.item()}')\n",
    "    \n",
    "    # Append loss to list\n",
    "    losses.append(loss.detach().numpy())\n",
    "\n",
    "# Plot losses\n",
    "plt.plot(range(100), losses)\n",
    "plt.xlabel('Epoch')\n",
    "plt.ylabel('Loss/Error')\n",
    "plt.show()"
   ]
  },
  {
   "cell_type": "code",
   "execution_count": 5,
   "metadata": {},
   "outputs": [
    {
     "data": {
      "text/plain": [
       "tensor(0.1458)"
      ]
     },
     "execution_count": 5,
     "metadata": {},
     "output_type": "execute_result"
    }
   ],
   "source": [
    "with torch.no_grad():\n",
    "    y_eval = model.forward(X_test)\n",
    "    loss =  criterion(y_eval, Y_test)\n",
    "    \n",
    "loss"
   ]
  },
  {
   "cell_type": "code",
   "execution_count": 6,
   "metadata": {},
   "outputs": [
    {
     "name": "stdout",
     "output_type": "stream",
     "text": [
      "1.) tensor([-7.7212,  1.5826,  4.8685]) \t 2 \t 2\n",
      "2.) tensor([-10.2316,   0.5146,   8.7767]) \t 2 \t 2\n",
      "3.) tensor([-10.7282,   1.1893,   8.2408]) \t 2 \t 2\n",
      "4.) tensor([-4.4743,  3.5419, -1.1241]) \t 1 \t 1\n",
      "5.) tensor([-9.0954,  1.4687,  6.2899]) \t 2 \t 2\n",
      "6.) tensor([-2.2803,  3.7077, -4.1196]) \t 1 \t 1\n",
      "7.) tensor([-7.0740,  2.2070,  3.2966]) \t 2 \t 2\n",
      "8.) tensor([-4.2271,  3.6553, -1.5467]) \t 1 \t 1\n",
      "9.) tensor([-8.0707,  1.8280,  4.7897]) \t 2 \t 2\n",
      "10.) tensor([-10.8583,   0.5051,   9.3761]) \t 2 \t 2\n",
      "11.) tensor([-6.8676,  2.2165,  3.0858]) \t 2 \t 2\n",
      "12.) tensor([  9.4382,   3.2638, -18.8717]) \t 0 \t 0\n",
      "13.) tensor([  8.6037,   2.9307, -17.1502]) \t 0 \t 0\n",
      "14.) tensor([-1.0594,  3.1702, -4.7116]) \t 1 \t 1\n",
      "15.) tensor([  8.0310,   3.2450, -16.7844]) \t 0 \t 0\n",
      "16.) tensor([-6.7105,  2.4191,  2.6637]) \t 2 \t 2\n",
      "17.) tensor([  8.4678,   3.0888, -17.1317]) \t 0 \t 0\n",
      "18.) tensor([-7.6060,  1.7034,  4.5701]) \t 1 \t 2\n",
      "19.) tensor([  9.8628,   3.2141, -19.4757]) \t 0 \t 0\n",
      "20.) tensor([  7.7276,   2.8980, -15.7355]) \t 0 \t 0\n",
      "21.) tensor([-1.6920,  3.3949, -4.3016]) \t 1 \t 1\n",
      "22.) tensor([-10.0177,   1.0502,   7.7708]) \t 2 \t 2\n",
      "23.) tensor([  8.2674,   3.2234, -17.0561]) \t 0 \t 0\n",
      "24.) tensor([  9.2092,   3.0850, -18.2915]) \t 0 \t 0\n",
      "25.) tensor([-1.3335,  3.4971, -4.9688]) \t 1 \t 1\n",
      "26.) tensor([-2.4308,  3.5983, -3.7124]) \t 1 \t 1\n",
      "27.) tensor([-4.7213,  3.5784, -0.9619]) \t 1 \t 1\n",
      "28.) tensor([-2.2788,  3.5467, -3.8154]) \t 1 \t 1\n",
      "29.) tensor([  9.4498,   3.2186, -18.8342]) \t 0 \t 0\n",
      "30.) tensor([-5.0105,  3.2334, -0.1553]) \t 1 \t 1\n",
      "we got 29 correct!\n"
     ]
    }
   ],
   "source": [
    "correct = 0\n",
    "with torch.no_grad():\n",
    "    for i, data in enumerate(X_test):\n",
    "        y_val = model.forward(data)\n",
    "        \n",
    "        print(f'{i+1}.) {str(y_val)} \\t {Y_test[i]} \\t {y_val.argmax().item()}')\n",
    "        \n",
    "        if y_val.argmax().item() == Y_test[i]:\n",
    "            correct += 1\n",
    "print(f'we got {correct} correct!')"
   ]
  }
 ],
 "metadata": {
  "kernelspec": {
   "display_name": ".venv",
   "language": "python",
   "name": "python3"
  },
  "language_info": {
   "codemirror_mode": {
    "name": "ipython",
    "version": 3
   },
   "file_extension": ".py",
   "mimetype": "text/x-python",
   "name": "python",
   "nbconvert_exporter": "python",
   "pygments_lexer": "ipython3",
   "version": "3.10.12"
  }
 },
 "nbformat": 4,
 "nbformat_minor": 2
}
